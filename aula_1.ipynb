{
 "cells": [
  {
   "cell_type": "markdown",
   "metadata": {},
   "source": [
    "# Importação de bibliotecas\n"
   ]
  },
  {
   "cell_type": "code",
   "execution_count": 1,
   "metadata": {},
   "outputs": [],
   "source": [
    "import pandas as pd\n",
    "import matplotlib.pyplot as plt \n",
    "import yfinance as yf \n",
    "import mplcyberpunk"
   ]
  },
  {
   "cell_type": "markdown",
   "metadata": {},
   "source": [
    "# Coletando as cotações históricas"
   ]
  },
  {
   "cell_type": "code",
   "execution_count": 2,
   "metadata": {},
   "outputs": [],
   "source": [
    "tickers = ['^BVSP', '^GSPC', 'BRL=X']"
   ]
  },
  {
   "cell_type": "code",
   "execution_count": 3,
   "metadata": {},
   "outputs": [
    {
     "name": "stderr",
     "output_type": "stream",
     "text": [
      "[*********************100%***********************]  3 of 3 completed\n"
     ]
    },
    {
     "data": {
      "text/html": [
       "<div>\n",
       "<style scoped>\n",
       "    .dataframe tbody tr th:only-of-type {\n",
       "        vertical-align: middle;\n",
       "    }\n",
       "\n",
       "    .dataframe tbody tr th {\n",
       "        vertical-align: top;\n",
       "    }\n",
       "\n",
       "    .dataframe thead th {\n",
       "        text-align: right;\n",
       "    }\n",
       "</style>\n",
       "<table border=\"1\" class=\"dataframe\">\n",
       "  <thead>\n",
       "    <tr style=\"text-align: right;\">\n",
       "      <th>Ticker</th>\n",
       "      <th>BRL=X</th>\n",
       "      <th>^BVSP</th>\n",
       "      <th>^GSPC</th>\n",
       "    </tr>\n",
       "    <tr>\n",
       "      <th>Date</th>\n",
       "      <th></th>\n",
       "      <th></th>\n",
       "      <th></th>\n",
       "    </tr>\n",
       "  </thead>\n",
       "  <tbody>\n",
       "    <tr>\n",
       "      <th>2024-03-11 00:00:00+00:00</th>\n",
       "      <td>4.97754</td>\n",
       "      <td>126124.000</td>\n",
       "      <td>5117.939941</td>\n",
       "    </tr>\n",
       "    <tr>\n",
       "      <th>2024-03-12 00:00:00+00:00</th>\n",
       "      <td>4.97740</td>\n",
       "      <td>127668.000</td>\n",
       "      <td>5175.270020</td>\n",
       "    </tr>\n",
       "    <tr>\n",
       "      <th>2024-03-13 00:00:00+00:00</th>\n",
       "      <td>4.96870</td>\n",
       "      <td>128006.000</td>\n",
       "      <td>5165.310059</td>\n",
       "    </tr>\n",
       "    <tr>\n",
       "      <th>2024-03-14 00:00:00+00:00</th>\n",
       "      <td>4.96920</td>\n",
       "      <td>127690.000</td>\n",
       "      <td>5150.479980</td>\n",
       "    </tr>\n",
       "    <tr>\n",
       "      <th>2024-03-15 00:00:00+00:00</th>\n",
       "      <td>4.99270</td>\n",
       "      <td>126742.000</td>\n",
       "      <td>5117.089844</td>\n",
       "    </tr>\n",
       "    <tr>\n",
       "      <th>...</th>\n",
       "      <td>...</td>\n",
       "      <td>...</td>\n",
       "      <td>...</td>\n",
       "    </tr>\n",
       "    <tr>\n",
       "      <th>2024-09-04 00:00:00+00:00</th>\n",
       "      <td>5.64750</td>\n",
       "      <td>136111.000</td>\n",
       "      <td>5520.069824</td>\n",
       "    </tr>\n",
       "    <tr>\n",
       "      <th>2024-09-05 00:00:00+00:00</th>\n",
       "      <td>5.64200</td>\n",
       "      <td>136502.000</td>\n",
       "      <td>5503.410156</td>\n",
       "    </tr>\n",
       "    <tr>\n",
       "      <th>2024-09-06 00:00:00+00:00</th>\n",
       "      <td>5.56750</td>\n",
       "      <td>134572.000</td>\n",
       "      <td>5408.419922</td>\n",
       "    </tr>\n",
       "    <tr>\n",
       "      <th>2024-09-09 00:00:00+00:00</th>\n",
       "      <td>5.59660</td>\n",
       "      <td>134737.000</td>\n",
       "      <td>5471.049805</td>\n",
       "    </tr>\n",
       "    <tr>\n",
       "      <th>2024-09-10 00:00:00+00:00</th>\n",
       "      <td>5.65520</td>\n",
       "      <td>134475.125</td>\n",
       "      <td>5495.520020</td>\n",
       "    </tr>\n",
       "  </tbody>\n",
       "</table>\n",
       "<p>132 rows × 3 columns</p>\n",
       "</div>"
      ],
      "text/plain": [
       "Ticker                       BRL=X       ^BVSP        ^GSPC\n",
       "Date                                                       \n",
       "2024-03-11 00:00:00+00:00  4.97754  126124.000  5117.939941\n",
       "2024-03-12 00:00:00+00:00  4.97740  127668.000  5175.270020\n",
       "2024-03-13 00:00:00+00:00  4.96870  128006.000  5165.310059\n",
       "2024-03-14 00:00:00+00:00  4.96920  127690.000  5150.479980\n",
       "2024-03-15 00:00:00+00:00  4.99270  126742.000  5117.089844\n",
       "...                            ...         ...          ...\n",
       "2024-09-04 00:00:00+00:00  5.64750  136111.000  5520.069824\n",
       "2024-09-05 00:00:00+00:00  5.64200  136502.000  5503.410156\n",
       "2024-09-06 00:00:00+00:00  5.56750  134572.000  5408.419922\n",
       "2024-09-09 00:00:00+00:00  5.59660  134737.000  5471.049805\n",
       "2024-09-10 00:00:00+00:00  5.65520  134475.125  5495.520020\n",
       "\n",
       "[132 rows x 3 columns]"
      ]
     },
     "execution_count": 3,
     "metadata": {},
     "output_type": "execute_result"
    }
   ],
   "source": [
    "dados_mercado = yf.download(tickers, period = '6mo')\n",
    "\n",
    "dados_mercado = dados_mercado['Adj Close']\n",
    "dados_mercado"
   ]
  },
  {
   "cell_type": "markdown",
   "metadata": {},
   "source": [
    "# Tratamento de dados"
   ]
  },
  {
   "cell_type": "code",
   "execution_count": 4,
   "metadata": {},
   "outputs": [
    {
     "data": {
      "text/plain": [
       "Ticker\n",
       "BRL=X    0\n",
       "^BVSP    3\n",
       "^GSPC    5\n",
       "dtype: int64"
      ]
     },
     "execution_count": 4,
     "metadata": {},
     "output_type": "execute_result"
    }
   ],
   "source": [
    "dados_mercado.isnull().sum()"
   ]
  },
  {
   "cell_type": "code",
   "execution_count": 5,
   "metadata": {},
   "outputs": [],
   "source": [
    "dados_mercado = dados_mercado.dropna()"
   ]
  },
  {
   "cell_type": "code",
   "execution_count": 6,
   "metadata": {},
   "outputs": [
    {
     "data": {
      "text/html": [
       "<div>\n",
       "<style scoped>\n",
       "    .dataframe tbody tr th:only-of-type {\n",
       "        vertical-align: middle;\n",
       "    }\n",
       "\n",
       "    .dataframe tbody tr th {\n",
       "        vertical-align: top;\n",
       "    }\n",
       "\n",
       "    .dataframe thead th {\n",
       "        text-align: right;\n",
       "    }\n",
       "</style>\n",
       "<table border=\"1\" class=\"dataframe\">\n",
       "  <thead>\n",
       "    <tr style=\"text-align: right;\">\n",
       "      <th></th>\n",
       "      <th>DOLAR</th>\n",
       "      <th>IBOVESPA</th>\n",
       "      <th>S&amp;P500</th>\n",
       "    </tr>\n",
       "    <tr>\n",
       "      <th>Date</th>\n",
       "      <th></th>\n",
       "      <th></th>\n",
       "      <th></th>\n",
       "    </tr>\n",
       "  </thead>\n",
       "  <tbody>\n",
       "    <tr>\n",
       "      <th>2024-03-11 00:00:00+00:00</th>\n",
       "      <td>4.97754</td>\n",
       "      <td>126124.000</td>\n",
       "      <td>5117.939941</td>\n",
       "    </tr>\n",
       "    <tr>\n",
       "      <th>2024-03-12 00:00:00+00:00</th>\n",
       "      <td>4.97740</td>\n",
       "      <td>127668.000</td>\n",
       "      <td>5175.270020</td>\n",
       "    </tr>\n",
       "    <tr>\n",
       "      <th>2024-03-13 00:00:00+00:00</th>\n",
       "      <td>4.96870</td>\n",
       "      <td>128006.000</td>\n",
       "      <td>5165.310059</td>\n",
       "    </tr>\n",
       "    <tr>\n",
       "      <th>2024-03-14 00:00:00+00:00</th>\n",
       "      <td>4.96920</td>\n",
       "      <td>127690.000</td>\n",
       "      <td>5150.479980</td>\n",
       "    </tr>\n",
       "    <tr>\n",
       "      <th>2024-03-15 00:00:00+00:00</th>\n",
       "      <td>4.99270</td>\n",
       "      <td>126742.000</td>\n",
       "      <td>5117.089844</td>\n",
       "    </tr>\n",
       "    <tr>\n",
       "      <th>...</th>\n",
       "      <td>...</td>\n",
       "      <td>...</td>\n",
       "      <td>...</td>\n",
       "    </tr>\n",
       "    <tr>\n",
       "      <th>2024-09-04 00:00:00+00:00</th>\n",
       "      <td>5.64750</td>\n",
       "      <td>136111.000</td>\n",
       "      <td>5520.069824</td>\n",
       "    </tr>\n",
       "    <tr>\n",
       "      <th>2024-09-05 00:00:00+00:00</th>\n",
       "      <td>5.64200</td>\n",
       "      <td>136502.000</td>\n",
       "      <td>5503.410156</td>\n",
       "    </tr>\n",
       "    <tr>\n",
       "      <th>2024-09-06 00:00:00+00:00</th>\n",
       "      <td>5.56750</td>\n",
       "      <td>134572.000</td>\n",
       "      <td>5408.419922</td>\n",
       "    </tr>\n",
       "    <tr>\n",
       "      <th>2024-09-09 00:00:00+00:00</th>\n",
       "      <td>5.59660</td>\n",
       "      <td>134737.000</td>\n",
       "      <td>5471.049805</td>\n",
       "    </tr>\n",
       "    <tr>\n",
       "      <th>2024-09-10 00:00:00+00:00</th>\n",
       "      <td>5.65520</td>\n",
       "      <td>134475.125</td>\n",
       "      <td>5495.520020</td>\n",
       "    </tr>\n",
       "  </tbody>\n",
       "</table>\n",
       "<p>125 rows × 3 columns</p>\n",
       "</div>"
      ],
      "text/plain": [
       "                             DOLAR    IBOVESPA       S&P500\n",
       "Date                                                       \n",
       "2024-03-11 00:00:00+00:00  4.97754  126124.000  5117.939941\n",
       "2024-03-12 00:00:00+00:00  4.97740  127668.000  5175.270020\n",
       "2024-03-13 00:00:00+00:00  4.96870  128006.000  5165.310059\n",
       "2024-03-14 00:00:00+00:00  4.96920  127690.000  5150.479980\n",
       "2024-03-15 00:00:00+00:00  4.99270  126742.000  5117.089844\n",
       "...                            ...         ...          ...\n",
       "2024-09-04 00:00:00+00:00  5.64750  136111.000  5520.069824\n",
       "2024-09-05 00:00:00+00:00  5.64200  136502.000  5503.410156\n",
       "2024-09-06 00:00:00+00:00  5.56750  134572.000  5408.419922\n",
       "2024-09-09 00:00:00+00:00  5.59660  134737.000  5471.049805\n",
       "2024-09-10 00:00:00+00:00  5.65520  134475.125  5495.520020\n",
       "\n",
       "[125 rows x 3 columns]"
      ]
     },
     "execution_count": 6,
     "metadata": {},
     "output_type": "execute_result"
    }
   ],
   "source": [
    "dados_mercado.columns = ['DOLAR', 'IBOVESPA', 'S&P500']\n",
    "\n",
    "dados_mercado"
   ]
  },
  {
   "cell_type": "markdown",
   "metadata": {},
   "source": [
    "# Criar gráficos de performace"
   ]
  },
  {
   "cell_type": "code",
   "execution_count": 7,
   "metadata": {},
   "outputs": [],
   "source": [
    "plt.style.use('cyberpunk')"
   ]
  },
  {
   "cell_type": "code",
   "execution_count": 8,
   "metadata": {},
   "outputs": [
    {
     "data": {
      "image/png": "[encoded data removed]",
      "text/plain": [
       "<Figure size 640x480 with 1 Axes>"
      ]
     },
     "metadata": {},
     "output_type": "display_data"
    }
   ],
   "source": [
    "plt.plot(dados_mercado['IBOVESPA'])\n",
    "plt.title('IBOVESPA')\n",
    "\n",
    "diretorio_figuras = '/home/petee/kaio_personal/python_applications/financas_minicurso/graficos'\n",
    "plt.savefig(diretorio_figuras + '/ibovespa.png')\n",
    "\n",
    "\n",
    "plt.show()\n"
   ]
  },
  {
   "cell_type": "code",
   "execution_count": 10,
   "metadata": {},
   "outputs": [
    {
     "data": {
      "image/png": "[encoded data removed]",
      "text/plain": [
       "<Figure size 640x480 with 1 Axes>"
      ]
     },
     "metadata": {},
     "output_type": "display_data"
    }
   ],
   "source": [
    "plt.plot(dados_mercado['DOLAR'])\n",
    "plt.title('DOLAR')\n",
    "\n",
    "diretorio_figuras = '/home/petee/kaio_personal/python_applications/financas_minicurso/graficos'\n",
    "plt.savefig(diretorio_figuras + '/dolar.png')\n",
    "\n",
    "\n",
    "plt.show()"
   ]
  },
  {
   "cell_type": "code",
   "execution_count": 11,
   "metadata": {},
   "outputs": [
    {
     "data": {
      "image/png": "[encoded data removed]",
      "text/plain": [
       "<Figure size 640x480 with 1 Axes>"
      ]
     },
     "metadata": {},
     "output_type": "display_data"
    }
   ],
   "source": [
    "plt.plot(dados_mercado['S&P500'])\n",
    "plt.title('S&P500')\n",
    "\n",
    "diretorio_figuras = '/home/petee/kaio_personal/python_applications/financas_minicurso/graficos'\n",
    "plt.savefig(diretorio_figuras + '/s&p500.png')\n",
    "\n",
    "\n",
    "plt.show()"
   ]
  },
  {
   "cell_type": "markdown",
   "metadata": {},
   "source": [
    "# Calcular retornos diários"
   ]
  },
  {
   "cell_type": "code",
   "execution_count": 16,
   "metadata": {},
   "outputs": [
    {
     "data": {
      "text/html": [
       "<div>\n",
       "<style scoped>\n",
       "    .dataframe tbody tr th:only-of-type {\n",
       "        vertical-align: middle;\n",
       "    }\n",
       "\n",
       "    .dataframe tbody tr th {\n",
       "        vertical-align: top;\n",
       "    }\n",
       "\n",
       "    .dataframe thead th {\n",
       "        text-align: right;\n",
       "    }\n",
       "</style>\n",
       "<table border=\"1\" class=\"dataframe\">\n",
       "  <thead>\n",
       "    <tr style=\"text-align: right;\">\n",
       "      <th></th>\n",
       "      <th>DOLAR</th>\n",
       "      <th>IBOVESPA</th>\n",
       "      <th>S&amp;P500</th>\n",
       "    </tr>\n",
       "    <tr>\n",
       "      <th>Date</th>\n",
       "      <th></th>\n",
       "      <th></th>\n",
       "      <th></th>\n",
       "    </tr>\n",
       "  </thead>\n",
       "  <tbody>\n",
       "    <tr>\n",
       "      <th>2024-03-11 00:00:00+00:00</th>\n",
       "      <td>NaN</td>\n",
       "      <td>NaN</td>\n",
       "      <td>NaN</td>\n",
       "    </tr>\n",
       "    <tr>\n",
       "      <th>2024-03-12 00:00:00+00:00</th>\n",
       "      <td>-0.000028</td>\n",
       "      <td>0.012242</td>\n",
       "      <td>0.011202</td>\n",
       "    </tr>\n",
       "    <tr>\n",
       "      <th>2024-03-13 00:00:00+00:00</th>\n",
       "      <td>-0.001748</td>\n",
       "      <td>0.002647</td>\n",
       "      <td>-0.001925</td>\n",
       "    </tr>\n",
       "    <tr>\n",
       "      <th>2024-03-14 00:00:00+00:00</th>\n",
       "      <td>0.000101</td>\n",
       "      <td>-0.002469</td>\n",
       "      <td>-0.002871</td>\n",
       "    </tr>\n",
       "    <tr>\n",
       "      <th>2024-03-15 00:00:00+00:00</th>\n",
       "      <td>0.004729</td>\n",
       "      <td>-0.007424</td>\n",
       "      <td>-0.006483</td>\n",
       "    </tr>\n",
       "    <tr>\n",
       "      <th>...</th>\n",
       "      <td>...</td>\n",
       "      <td>...</td>\n",
       "      <td>...</td>\n",
       "    </tr>\n",
       "    <tr>\n",
       "      <th>2024-09-04 00:00:00+00:00</th>\n",
       "      <td>0.005770</td>\n",
       "      <td>0.013085</td>\n",
       "      <td>-0.001603</td>\n",
       "    </tr>\n",
       "    <tr>\n",
       "      <th>2024-09-05 00:00:00+00:00</th>\n",
       "      <td>-0.000974</td>\n",
       "      <td>0.002873</td>\n",
       "      <td>-0.003018</td>\n",
       "    </tr>\n",
       "    <tr>\n",
       "      <th>2024-09-06 00:00:00+00:00</th>\n",
       "      <td>-0.013205</td>\n",
       "      <td>-0.014139</td>\n",
       "      <td>-0.017260</td>\n",
       "    </tr>\n",
       "    <tr>\n",
       "      <th>2024-09-09 00:00:00+00:00</th>\n",
       "      <td>0.005227</td>\n",
       "      <td>0.001226</td>\n",
       "      <td>0.011580</td>\n",
       "    </tr>\n",
       "    <tr>\n",
       "      <th>2024-09-10 00:00:00+00:00</th>\n",
       "      <td>0.010471</td>\n",
       "      <td>-0.001944</td>\n",
       "      <td>0.004473</td>\n",
       "    </tr>\n",
       "  </tbody>\n",
       "</table>\n",
       "<p>125 rows × 3 columns</p>\n",
       "</div>"
      ],
      "text/plain": [
       "                              DOLAR  IBOVESPA    S&P500\n",
       "Date                                                   \n",
       "2024-03-11 00:00:00+00:00       NaN       NaN       NaN\n",
       "2024-03-12 00:00:00+00:00 -0.000028  0.012242  0.011202\n",
       "2024-03-13 00:00:00+00:00 -0.001748  0.002647 -0.001925\n",
       "2024-03-14 00:00:00+00:00  0.000101 -0.002469 -0.002871\n",
       "2024-03-15 00:00:00+00:00  0.004729 -0.007424 -0.006483\n",
       "...                             ...       ...       ...\n",
       "2024-09-04 00:00:00+00:00  0.005770  0.013085 -0.001603\n",
       "2024-09-05 00:00:00+00:00 -0.000974  0.002873 -0.003018\n",
       "2024-09-06 00:00:00+00:00 -0.013205 -0.014139 -0.017260\n",
       "2024-09-09 00:00:00+00:00  0.005227  0.001226  0.011580\n",
       "2024-09-10 00:00:00+00:00  0.010471 -0.001944  0.004473\n",
       "\n",
       "[125 rows x 3 columns]"
      ]
     },
     "execution_count": 16,
     "metadata": {},
     "output_type": "execute_result"
    }
   ],
   "source": [
    "retornos_diarios = dados_mercado.pct_change()\n",
    "\n",
    "retornos_diarios"
   ]
  },
  {
   "cell_type": "code",
   "execution_count": 18,
   "metadata": {},
   "outputs": [
    {
     "data": {
      "text/html": [
       "<div>\n",
       "<style scoped>\n",
       "    .dataframe tbody tr th:only-of-type {\n",
       "        vertical-align: middle;\n",
       "    }\n",
       "\n",
       "    .dataframe tbody tr th {\n",
       "        vertical-align: top;\n",
       "    }\n",
       "\n",
       "    .dataframe thead th {\n",
       "        text-align: right;\n",
       "    }\n",
       "</style>\n",
       "<table border=\"1\" class=\"dataframe\">\n",
       "  <thead>\n",
       "    <tr style=\"text-align: right;\">\n",
       "      <th></th>\n",
       "      <th>DOLAR</th>\n",
       "      <th>IBOVESPA</th>\n",
       "      <th>S&amp;P500</th>\n",
       "    </tr>\n",
       "    <tr>\n",
       "      <th>Date</th>\n",
       "      <th></th>\n",
       "      <th></th>\n",
       "      <th></th>\n",
       "    </tr>\n",
       "  </thead>\n",
       "  <tbody>\n",
       "    <tr>\n",
       "      <th>2024-03-11 00:00:00+00:00</th>\n",
       "      <td>NaN</td>\n",
       "      <td>NaN</td>\n",
       "      <td>NaN</td>\n",
       "    </tr>\n",
       "    <tr>\n",
       "      <th>2024-03-12 00:00:00+00:00</th>\n",
       "      <td>NaN</td>\n",
       "      <td>NaN</td>\n",
       "      <td>NaN</td>\n",
       "    </tr>\n",
       "    <tr>\n",
       "      <th>2024-03-13 00:00:00+00:00</th>\n",
       "      <td>NaN</td>\n",
       "      <td>NaN</td>\n",
       "      <td>NaN</td>\n",
       "    </tr>\n",
       "    <tr>\n",
       "      <th>2024-03-14 00:00:00+00:00</th>\n",
       "      <td>NaN</td>\n",
       "      <td>NaN</td>\n",
       "      <td>NaN</td>\n",
       "    </tr>\n",
       "    <tr>\n",
       "      <th>2024-03-15 00:00:00+00:00</th>\n",
       "      <td>NaN</td>\n",
       "      <td>NaN</td>\n",
       "      <td>NaN</td>\n",
       "    </tr>\n",
       "    <tr>\n",
       "      <th>2024-03-18 00:00:00+00:00</th>\n",
       "      <td>-0.001907</td>\n",
       "      <td>0.006581</td>\n",
       "      <td>0.006151</td>\n",
       "    </tr>\n",
       "    <tr>\n",
       "      <th>2024-03-19 00:00:00+00:00</th>\n",
       "      <td>0.010447</td>\n",
       "      <td>-0.001089</td>\n",
       "      <td>0.000626</td>\n",
       "    </tr>\n",
       "    <tr>\n",
       "      <th>2024-03-20 00:00:00+00:00</th>\n",
       "      <td>0.012337</td>\n",
       "      <td>0.008742</td>\n",
       "      <td>0.011482</td>\n",
       "    </tr>\n",
       "    <tr>\n",
       "      <th>2024-03-21 00:00:00+00:00</th>\n",
       "      <td>-0.000604</td>\n",
       "      <td>0.003673</td>\n",
       "      <td>0.017678</td>\n",
       "    </tr>\n",
       "    <tr>\n",
       "      <th>2024-03-22 00:00:00+00:00</th>\n",
       "      <td>-0.003645</td>\n",
       "      <td>0.002249</td>\n",
       "      <td>0.022882</td>\n",
       "    </tr>\n",
       "  </tbody>\n",
       "</table>\n",
       "</div>"
      ],
      "text/plain": [
       "                              DOLAR  IBOVESPA    S&P500\n",
       "Date                                                   \n",
       "2024-03-11 00:00:00+00:00       NaN       NaN       NaN\n",
       "2024-03-12 00:00:00+00:00       NaN       NaN       NaN\n",
       "2024-03-13 00:00:00+00:00       NaN       NaN       NaN\n",
       "2024-03-14 00:00:00+00:00       NaN       NaN       NaN\n",
       "2024-03-15 00:00:00+00:00       NaN       NaN       NaN\n",
       "2024-03-18 00:00:00+00:00 -0.001907  0.006581  0.006151\n",
       "2024-03-19 00:00:00+00:00  0.010447 -0.001089  0.000626\n",
       "2024-03-20 00:00:00+00:00  0.012337  0.008742  0.011482\n",
       "2024-03-21 00:00:00+00:00 -0.000604  0.003673  0.017678\n",
       "2024-03-22 00:00:00+00:00 -0.003645  0.002249  0.022882"
      ]
     },
     "execution_count": 18,
     "metadata": {},
     "output_type": "execute_result"
    }
   ],
   "source": [
    "retornos_diarios = dados_mercado.pct_change(periods = 5)\n",
    "\n",
    "retornos_diarios.head(10)"
   ]
  },
  {
   "cell_type": "code",
   "execution_count": null,
   "metadata": {},
   "outputs": [],
   "source": []
  }
 ],
 "metadata": {
  "kernelspec": {
   "display_name": "ambiente_financas",
   "language": "python",
   "name": "python3"
  },
  "language_info": {
   "codemirror_mode": {
    "name": "ipython",
    "version": 3
   },
   "file_extension": ".py",
   "mimetype": "text/x-python",
   "name": "python",
   "nbconvert_exporter": "python",
   "pygments_lexer": "ipython3",
   "version": "3.11.10"
  }
 },
 "nbformat": 4,
 "nbformat_minor": 2
}
